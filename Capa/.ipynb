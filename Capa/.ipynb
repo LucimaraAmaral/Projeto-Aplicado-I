PROJETO APLICADO I - CIENCIA DE DADOS

Lucimara de Souza Silva Amaral
RA: 10433727

Stella
RA:

Amanda Pepino
RA:
